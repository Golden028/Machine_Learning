{
  "cells": [
    {
      "cell_type": "markdown",
      "metadata": {
        "id": "view-in-github",
        "colab_type": "text"
      },
      "source": [
        "<a href=\"https://colab.research.google.com/github/Golden028/Machine_Learning/blob/main/JS07_TG05_2341720216_GOLDEN%20CHRISTIAN.ipynb\" target=\"_parent\"><img src=\"https://colab.research.google.com/assets/colab-badge.svg\" alt=\"Open In Colab\"/></a>"
      ]
    },
    {
      "cell_type": "markdown",
      "metadata": {
        "id": "UPp_lna4zDE_"
      },
      "source": [
        "# **Lab 1**"
      ]
    },
    {
      "cell_type": "markdown",
      "metadata": {
        "id": "fGBrcEzHzalx"
      },
      "source": [
        "**Step 1 - Install Library**"
      ]
    },
    {
      "cell_type": "code",
      "execution_count": null,
      "metadata": {
        "colab": {
          "base_uri": "https://localhost:8080/"
        },
        "id": "JO9uNqjy1SNQ",
        "outputId": "9b566414-ea56-4664-ac18-9c1d46ff4b95"
      },
      "outputs": [
        {
          "name": "stdout",
          "output_type": "stream",
          "text": [
            "Collecting annoy\n",
            "  Downloading annoy-1.17.3.tar.gz (647 kB)\n",
            "\u001b[?25l     \u001b[90m━━━━━━━━━━━━━━━━━━━━━━━━━━━━━━━━━━━━━━━━\u001b[0m \u001b[32m0.0/647.5 kB\u001b[0m \u001b[31m?\u001b[0m eta \u001b[36m-:--:--\u001b[0m\r\u001b[2K     \u001b[90m━━━━━━━━━━━━━━━━━━━━━━━━━━━━━━━━━━━━━━\u001b[0m \u001b[32m647.5/647.5 kB\u001b[0m \u001b[31m33.8 MB/s\u001b[0m eta \u001b[36m0:00:00\u001b[0m\n",
            "\u001b[?25h  Preparing metadata (setup.py) ... \u001b[?25l\u001b[?25hdone\n",
            "Building wheels for collected packages: annoy\n",
            "  Building wheel for annoy (setup.py) ... \u001b[?25l\u001b[?25hdone\n",
            "  Created wheel for annoy: filename=annoy-1.17.3-cp312-cp312-linux_x86_64.whl size=551809 sha256=a40fa1c2682a3075a75f6062fd469f8ff686cd995d961205492b82196b894037\n",
            "  Stored in directory: /root/.cache/pip/wheels/db/b9/53/a3b2d1fe1743abadddec6aa541294b24fdbc39d7800bc57311\n",
            "Successfully built annoy\n",
            "Installing collected packages: annoy\n",
            "Successfully installed annoy-1.17.3\n"
          ]
        }
      ],
      "source": [
        "# Install ANNOY\n",
        "!pip install annoy"
      ]
    },
    {
      "cell_type": "markdown",
      "metadata": {
        "id": "1XnekvLpzeKQ"
      },
      "source": [
        "**Step 2 - Import Library**"
      ]
    },
    {
      "cell_type": "code",
      "execution_count": null,
      "metadata": {
        "id": "WQJHfhim1Ub2"
      },
      "outputs": [],
      "source": [
        "# Import Library\n",
        "import numpy as np\n",
        "import matplotlib.pyplot as plt\n",
        "import time\n",
        "\n",
        "from annoy import AnnoyIndex"
      ]
    },
    {
      "cell_type": "markdown",
      "metadata": {
        "id": "h0oCmUUuzh0k"
      },
      "source": [
        "**Step 3 - Create a Dummy Dataset**"
      ]
    },
    {
      "cell_type": "code",
      "execution_count": null,
      "metadata": {
        "id": "r0J45bkq1gDY"
      },
      "outputs": [],
      "source": [
        "# Build Random Dataset and Query Point\n",
        "np.random.seed(42)\n",
        "n_points = 1000\n",
        "X = np.random.rand(n_points, 2) * 100  # random value at 100x100 space\n",
        "\n",
        "# Query point (pick 1 random data point)\n",
        "query = X[np.random.randint(0, n_points)]"
      ]
    },
    {
      "cell_type": "markdown",
      "metadata": {
        "id": "hs1W_QoE1jRy"
      },
      "source": [
        "**Step 4 - Exact NN**"
      ]
    },
    {
      "cell_type": "code",
      "execution_count": null,
      "metadata": {
        "colab": {
          "base_uri": "https://localhost:8080/"
        },
        "id": "FsDt5Kb71mdr",
        "outputId": "4c923d4a-e611-43b5-bf5d-d0ab6639701a"
      },
      "outputs": [
        {
          "name": "stdout",
          "output_type": "stream",
          "text": [
            "Exact NN index: [219 898 593]\n",
            "Exact NN jarak: [0.         1.36915938 2.27931544]\n",
            "Waktu Exact: 11.167 ms\n"
          ]
        }
      ],
      "source": [
        "# Compute Exact NN Using Brute Force\n",
        "# It will visit the data one by one\n",
        "start = time.time()\n",
        "distances = np.linalg.norm(X - query, axis=1)\n",
        "idx_exact = np.argsort(distances)[:3]  # ambil 3 terdekat\n",
        "time_exact = time.time() - start\n",
        "\n",
        "print(\"Exact NN index:\", idx_exact)\n",
        "print(\"Exact NN jarak:\", distances[idx_exact])\n",
        "print(\"Waktu Exact:\", round(time_exact*1000, 4), \"ms\")"
      ]
    },
    {
      "cell_type": "markdown",
      "metadata": {
        "id": "UvB9mC3DzrhX"
      },
      "source": [
        "**Step 5 - Nearest Neighbors with ANNOY**"
      ]
    },
    {
      "cell_type": "code",
      "execution_count": null,
      "metadata": {
        "colab": {
          "base_uri": "https://localhost:8080/"
        },
        "id": "DIaeBQ4P1pJv",
        "outputId": "7c93b01d-839b-431d-c09c-79f6df27d0d4"
      },
      "outputs": [
        {
          "name": "stdout",
          "output_type": "stream",
          "text": [
            "\n",
            "Annoy NN index: [219, 898, 770]\n",
            "Annoy NN jarak: [np.float64(0.0), np.float64(1.369159376273702), np.float64(2.568167959732514)]\n",
            "Waktu Annoy: 0.1132 ms\n"
          ]
        }
      ],
      "source": [
        "# ANNOY 3 Tree\n",
        "f = 2  # dimensi\n",
        "t = AnnoyIndex(f, 'euclidean')\n",
        "for i, vec in enumerate(X):\n",
        "    t.add_item(i, vec)\n",
        "\n",
        "t.build(3)  # 3 trees\n",
        "\n",
        "start = time.time()\n",
        "idx_ann = t.get_nns_by_vector(query, 3)  # find 3 NN\n",
        "time_ann = time.time() - start\n",
        "\n",
        "print(\"\\nAnnoy NN index:\", idx_ann)\n",
        "print(\"Annoy NN jarak:\", [np.linalg.norm(X[i]-query) for i in idx_ann])\n",
        "print(\"Waktu Annoy:\", round(time_ann*1000, 4), \"ms\")"
      ]
    },
    {
      "cell_type": "markdown",
      "metadata": {
        "id": "td1Jo45MzwFE"
      },
      "source": [
        "**Step 6 - Visualize the NN Result**"
      ]
    },
    {
      "cell_type": "code",
      "execution_count": null,
      "metadata": {
        "colab": {
          "base_uri": "https://localhost:8080/",
          "height": 545
        },
        "id": "Kz3-OGOY1rXH",
        "outputId": "a6d849a5-9dc7-45df-ed8e-9b159fc84e75"
      },
      "outputs": [
        {
          "data": {
            "image/png": "[encoded data removed]",
            "text/plain": [
              "<Figure size 600x600 with 1 Axes>"
            ]
          },
          "metadata": {},
          "output_type": "display_data"
        }
      ],
      "source": [
        "# Visualize\n",
        "# Knowing the NN produced by Exact NN and ANNOY\n",
        "plt.figure(figsize=(6,6))\n",
        "plt.scatter(X[:,0], X[:,1], c=\"lightgray\", s=20, label=\"Dataset\")\n",
        "plt.scatter(query[0], query[1], c=\"red\", marker=\"x\", s=100, label=\"Query\")\n",
        "\n",
        "# Exact NN ditandai biru\n",
        "plt.scatter(X[idx_exact,0], X[idx_exact,1], c=\"blue\", s=80, label=\"Exact NN\")\n",
        "\n",
        "# Annoy NN ditandai hijau\n",
        "plt.scatter(X[idx_ann,0], X[idx_ann,1], c=\"green\", s=50, marker=\"s\", label=\"Annoy NN\")\n",
        "\n",
        "plt.legend()\n",
        "plt.title(\"Exact NN vs Annoy NN (3 trees)\")\n",
        "plt.show()"
      ]
    },
    {
      "cell_type": "markdown",
      "metadata": {
        "id": "kMr941-YzKuU"
      },
      "source": [
        "# **Lab 2**"
      ]
    },
    {
      "cell_type": "markdown",
      "metadata": {
        "id": "SLMvWd3_z4PE"
      },
      "source": [
        "**Step 1 - Install FAISS Library**"
      ]
    },
    {
      "cell_type": "code",
      "execution_count": null,
      "metadata": {
        "colab": {
          "base_uri": "https://localhost:8080/"
        },
        "id": "6-Y0ZDKM16BR",
        "outputId": "0d9aef80-9984-459a-effc-0b43bace822b"
      },
      "outputs": [
        {
          "name": "stdout",
          "output_type": "stream",
          "text": [
            "Collecting faiss-cpu\n",
            "  Downloading faiss_cpu-1.12.0-cp312-cp312-manylinux_2_27_x86_64.manylinux_2_28_x86_64.whl.metadata (5.1 kB)\n",
            "Requirement already satisfied: numpy<3.0,>=1.25.0 in /usr/local/lib/python3.12/dist-packages (from faiss-cpu) (2.0.2)\n",
            "Requirement already satisfied: packaging in /usr/local/lib/python3.12/dist-packages (from faiss-cpu) (25.0)\n",
            "Downloading faiss_cpu-1.12.0-cp312-cp312-manylinux_2_27_x86_64.manylinux_2_28_x86_64.whl (31.4 MB)\n",
            "\u001b[2K   \u001b[90m━━━━━━━━━━━━━━━━━━━━━━━━━━━━━━━━━━━━━━━━\u001b[0m \u001b[32m31.4/31.4 MB\u001b[0m \u001b[31m63.5 MB/s\u001b[0m eta \u001b[36m0:00:00\u001b[0m\n",
            "\u001b[?25hInstalling collected packages: faiss-cpu\n",
            "Successfully installed faiss-cpu-1.12.0\n"
          ]
        }
      ],
      "source": [
        "!pip install faiss-cpu"
      ]
    },
    {
      "cell_type": "markdown",
      "metadata": {
        "id": "00JC_ElSz9eX"
      },
      "source": [
        "**Step 2 - Import Libraries**"
      ]
    },
    {
      "cell_type": "code",
      "execution_count": null,
      "metadata": {
        "id": "zeiIO_5717wW"
      },
      "outputs": [],
      "source": [
        "import numpy as np\n",
        "import faiss\n",
        "import matplotlib.pyplot as plt\n",
        "import time"
      ]
    },
    {
      "cell_type": "markdown",
      "metadata": {
        "id": "yiE_lZnD0DN9"
      },
      "source": [
        "**Step 3 - Create a Dummy Dataset**"
      ]
    },
    {
      "cell_type": "code",
      "execution_count": null,
      "metadata": {
        "id": "0aXRzrjL185P"
      },
      "outputs": [],
      "source": [
        "# Build random data\n",
        "np.random.seed(42)\n",
        "X = np.random.rand(1000, 2).astype('float32')  # 1000 data 2D\n",
        "query = np.array([[0.5, 0.5]], dtype='float32')  # query point"
      ]
    },
    {
      "cell_type": "markdown",
      "metadata": {
        "id": "xfXsoD1p0IFV"
      },
      "source": [
        "**Step 4 - Build Exact NN Model**"
      ]
    },
    {
      "cell_type": "code",
      "execution_count": null,
      "metadata": {
        "id": "GDG63D2i19_5"
      },
      "outputs": [],
      "source": [
        "# Search NN using Exact NN\n",
        "index_flat = faiss.IndexFlatL2(2)   # L2 = Euclidean distance\n",
        "index_flat.add(X)\n",
        "\n",
        "# Compute Exact NN Time\n",
        "start = time.time()\n",
        "D_flat, I_flat = index_flat.search(query, 3)  # Find 3 NN\n",
        "end = time.time()\n",
        "time_flat = end - start"
      ]
    },
    {
      "cell_type": "markdown",
      "metadata": {
        "id": "EPe411wC0LWY"
      },
      "source": [
        "**Step 5 - Build FAISS Model**"
      ]
    },
    {
      "cell_type": "code",
      "execution_count": null,
      "metadata": {
        "id": "SCjvtQt51_CI"
      },
      "outputs": [],
      "source": [
        "# Compute FAISS\n",
        "nlist = 10   # n-cluster (inverted list)\n",
        "m = 2        # number of subvector\n",
        "quantizer = faiss.IndexFlatL2(2)   # used by IVF for initiatl cluster\n",
        "index_ivfpq = faiss.IndexIVFPQ(quantizer, 2, nlist, m, 8)  # 8 bit per subvector\n",
        "\n",
        "index_ivfpq.train(X)  # training centroid\n",
        "index_ivfpq.add(X)\n",
        "\n",
        "start = time.time()\n",
        "D_ivfpq, I_ivfpq = index_ivfpq.search(query, 3)\n",
        "end = time.time()\n",
        "time_ivfpq = end - start"
      ]
    },
    {
      "cell_type": "markdown",
      "metadata": {
        "id": "MY2vmSs70T3v"
      },
      "source": [
        "**Step 6 - Compare The Performance**"
      ]
    },
    {
      "cell_type": "code",
      "execution_count": null,
      "metadata": {
        "colab": {
          "base_uri": "https://localhost:8080/"
        },
        "id": "VSd9E5oW2AIH",
        "outputId": "f639b6ab-0084-4b64-a297-1356397d4b3b"
      },
      "outputs": [
        {
          "name": "stdout",
          "output_type": "stream",
          "text": [
            "Exact NN (Flat) indices: [[137 170 750]] distances: [[0.00013095 0.00077404 0.00079751]]\n",
            "IVF+PQ indices: [[137 170 750]] distances: [[0.00012945 0.00079226 0.00080067]]\n",
            "Waktu Exact: 0.0003457069396972656\n",
            "Waktu IVF+PQ: 0.00020051002502441406\n"
          ]
        }
      ],
      "source": [
        "# Print The Peformances\n",
        "print(\"Exact NN (Flat) indices:\", I_flat, \"distances:\", D_flat)\n",
        "print(\"IVF+PQ indices:\", I_ivfpq, \"distances:\", D_ivfpq)\n",
        "print(\"Waktu Exact:\", time_flat)\n",
        "print(\"Waktu IVF+PQ:\", time_ivfpq)"
      ]
    },
    {
      "cell_type": "markdown",
      "metadata": {
        "id": "EumkaVyf0XCn"
      },
      "source": [
        "**Step 7 - Visualize**"
      ]
    },
    {
      "cell_type": "code",
      "execution_count": null,
      "metadata": {
        "colab": {
          "base_uri": "https://localhost:8080/",
          "height": 452
        },
        "id": "nWKAyBMM2Bbv",
        "outputId": "3ddf6c0a-972b-4f7c-f6a0-a2db5f44948f"
      },
      "outputs": [
        {
          "data": {
            "image/png": "[encoded data removed]",
            "text/plain": [
              "<Figure size 640x480 with 1 Axes>"
            ]
          },
          "metadata": {},
          "output_type": "display_data"
        }
      ],
      "source": [
        "# Visualize\n",
        "plt.scatter(X[:,0], X[:,1], alpha=0.4, label=\"Dataset\")\n",
        "plt.scatter(query[:,0], query[:,1], c='red', marker='*', s=200, label=\"Query\")\n",
        "\n",
        "# Flat NN -> Exact NN\n",
        "plt.scatter(X[I_flat[0],0], X[I_flat[0],1], c='blue', s=100, edgecolor='k', label=\"Exact NN\")\n",
        "\n",
        "# IVF+PQ NN -> FAISS\n",
        "plt.scatter(X[I_ivfpq[0],0], X[I_ivfpq[0],1], c='green', marker='x', s=100, label=\"IVF+PQ NN\")\n",
        "\n",
        "plt.legend()\n",
        "plt.title(\"Exact NN vs FAISS IVF+PQ\")\n",
        "plt.show()"
      ]
    },
    {
      "cell_type": "markdown",
      "metadata": {
        "id": "zGtx-URHzMDv"
      },
      "source": [
        "# **Lab 3**"
      ]
    },
    {
      "cell_type": "markdown",
      "metadata": {
        "id": "8bym1f200ahu"
      },
      "source": [
        "**Step 1 - Install HNSW Library**"
      ]
    },
    {
      "cell_type": "code",
      "execution_count": null,
      "metadata": {
        "colab": {
          "base_uri": "https://localhost:8080/"
        },
        "id": "EPDKJFUB2IhD",
        "outputId": "b151ce4c-35e6-4090-c25a-d283d08f90d9"
      },
      "outputs": [
        {
          "name": "stdout",
          "output_type": "stream",
          "text": [
            "Collecting hnswlib\n",
            "  Downloading hnswlib-0.8.0.tar.gz (36 kB)\n",
            "  Installing build dependencies ... \u001b[?25l\u001b[?25hdone\n",
            "  Getting requirements to build wheel ... \u001b[?25l\u001b[?25hdone\n",
            "  Preparing metadata (pyproject.toml) ... \u001b[?25l\u001b[?25hdone\n",
            "Requirement already satisfied: numpy in /usr/local/lib/python3.12/dist-packages (from hnswlib) (2.0.2)\n",
            "Building wheels for collected packages: hnswlib\n"
          ]
        }
      ],
      "source": [
        "!pip install hnswlib"
      ]
    },
    {
      "cell_type": "markdown",
      "metadata": {
        "id": "eZBt3pD00b_n"
      },
      "source": [
        "**Step 2 - Import Libraries**"
      ]
    },
    {
      "cell_type": "code",
      "execution_count": null,
      "metadata": {
        "id": "ZSSQ_a1E2KUd"
      },
      "outputs": [],
      "source": [
        "import hnswlib\n",
        "import numpy as np\n",
        "import time\n",
        "from sklearn.neighbors import NearestNeighbors"
      ]
    },
    {
      "cell_type": "markdown",
      "metadata": {
        "id": "Tk8Lz8Bf0dta"
      },
      "source": [
        "**Step 3 - Create a Dummy Dataset**"
      ]
    },
    {
      "cell_type": "code",
      "execution_count": null,
      "metadata": {
        "colab": {
          "background_save": true
        },
        "id": "MWq--6iX2LNM"
      },
      "outputs": [],
      "source": [
        "# Build Dummy Dataset\n",
        "num_elements = 1000\n",
        "dim = 2\n",
        "data = np.random.random((num_elements, dim)).astype(np.float32)\n",
        "\n",
        "# Query point\n",
        "query = np.array([[0.5, 0.5]], dtype=np.float32)\n",
        "k = 5  # cari 5 tetangga terdekat"
      ]
    },
    {
      "cell_type": "markdown",
      "metadata": {
        "id": "pdwIn5Sy0fza"
      },
      "source": [
        "**Step 3 - Build Exact NN Model**"
      ]
    },
    {
      "cell_type": "code",
      "execution_count": null,
      "metadata": {
        "colab": {
          "base_uri": "https://localhost:8080/"
        },
        "id": "dv-Xdmbc2MlU",
        "outputId": "2597be38-f278-416a-8de5-0e95def8daf4"
      },
      "outputs": [
        {
          "name": "stdout",
          "output_type": "stream",
          "text": [
            "=== Exact NN ===\n",
            "Indices: [[830 247 473 913 592]]\n",
            "Distances: [[0.00993625 0.01363944 0.01646171 0.03779694 0.03859071]]\n",
            "Waktu: 0.044157981872558594 s\n"
          ]
        }
      ],
      "source": [
        "# Build NN Model\n",
        "nn = NearestNeighbors(n_neighbors=k, algorithm='brute', metric='euclidean')\n",
        "nn.fit(data)\n",
        "\n",
        "# Compute time performace\n",
        "start = time.time()\n",
        "distances, indices = nn.kneighbors(query)\n",
        "end = time.time()\n",
        "\n",
        "print(\"=== Exact NN ===\")\n",
        "print(\"Indices:\", indices)\n",
        "print(\"Distances:\", distances)\n",
        "print(\"Waktu:\", end - start, \"s\")"
      ]
    },
    {
      "cell_type": "markdown",
      "metadata": {
        "id": "XydnZ6ys0hkK"
      },
      "source": [
        "**Step 4 - Build HNSW Model**"
      ]
    },
    {
      "cell_type": "code",
      "execution_count": null,
      "metadata": {
        "colab": {
          "base_uri": "https://localhost:8080/"
        },
        "id": "Fa8g0BaZ2N-3",
        "outputId": "bb6e907e-a838-4f7f-a58a-b7c3359ba41b"
      },
      "outputs": [
        {
          "name": "stdout",
          "output_type": "stream",
          "text": [
            "\n",
            "=== HNSW ===\n",
            "Indices: [[830 247 473 913 592]]\n",
            "Distances: [[9.8728990e-05 1.8603441e-04 2.7098786e-04 1.4286089e-03 1.4892431e-03]]\n",
            "Waktu: 0.0001850128173828125 s\n"
          ]
        }
      ],
      "source": [
        "# Initiate Index\n",
        "p = hnswlib.Index(space='l2', dim=dim)\n",
        "\n",
        "# Define Max Elements\n",
        "p.init_index(max_elements=num_elements, ef_construction=100, M=16)\n",
        "\n",
        "# Add Data\n",
        "p.add_items(data)\n",
        "\n",
        "# Set searching parameter\n",
        "p.set_ef(50)   # tradeoff speed vs accuracy\n",
        "\n",
        "start = time.time()\n",
        "labels, distances = p.knn_query(query, k=k)\n",
        "end = time.time()\n",
        "\n",
        "print(\"\\n=== HNSW ===\")\n",
        "print(\"Indices:\", labels)\n",
        "print(\"Distances:\", distances)\n",
        "print(\"Waktu:\", end - start, \"s\")"
      ]
    },
    {
      "cell_type": "markdown",
      "metadata": {
        "id": "ddYFgjvJzO3h"
      },
      "source": [
        "# **Lab 4**"
      ]
    },
    {
      "cell_type": "markdown",
      "metadata": {
        "id": "XucKJCL20kZU"
      },
      "source": [
        "Now in this lab, we will compare the 3 ANN method at the single time using large amout of data and features 1mio by 1mio."
      ]
    },
    {
      "cell_type": "code",
      "execution_count": null,
      "metadata": {
        "colab": {
          "base_uri": "https://localhost:8080/"
        },
        "id": "QcolmBPB2zk9",
        "outputId": "5ec33156-8cb5-49ec-dc1d-5029cb440264"
      },
      "outputs": [
        {
          "name": "stdout",
          "output_type": "stream",
          "text": [
            "=== Annoy ===\n",
            "Build time: 22.731465816497803 detik\n",
            "Query time: 0.00023651123046875 detik\n",
            "Neighbors: [473142, 815660, 216089, 418503, 261601] ...\n",
            "\n",
            "=== FAISS (IndexFlatL2) ===\n",
            "Build time: 0.013669013977050781 detik\n",
            "Query time: 0.006296396255493164 detik\n",
            "Neighbors: [473142 815660 216089 418503 261601] ...\n",
            "\n",
            "=== HNSW (hnswlib) ===\n",
            "Build time: 163.1844401359558 detik\n",
            "Query time: 0.0002193450927734375 detik\n",
            "Neighbors: [473142 815660 216089 418503 261601] ...\n"
          ]
        }
      ],
      "source": [
        "import numpy as np\n",
        "import time\n",
        "from annoy import AnnoyIndex\n",
        "import faiss\n",
        "import hnswlib\n",
        "\n",
        "# ===============================\n",
        "# Build 1mio rows with 5D\n",
        "# ===============================\n",
        "n_data = 1_000_000   # try 100_000 if you have limited memory\n",
        "dim = 5\n",
        "X = np.random.random((n_data, dim)).astype(np.float32)\n",
        "\n",
        "# Query point\n",
        "query = np.random.random((1, dim)).astype(np.float32)\n",
        "k = 10\n",
        "\n",
        "# ===============================\n",
        "# 2. Annoy\n",
        "# ===============================\n",
        "print(\"=== Annoy ===\")\n",
        "ann_index = AnnoyIndex(dim, 'euclidean')\n",
        "\n",
        "start = time.time()\n",
        "for i in range(n_data):\n",
        "    ann_index.add_item(i, X[i])\n",
        "ann_index.build(10)  # 10 trees\n",
        "build_time = time.time() - start\n",
        "\n",
        "start = time.time()\n",
        "neighbors = ann_index.get_nns_by_vector(query[0], k, include_distances=True)\n",
        "query_time = time.time() - start\n",
        "\n",
        "print(\"Build time:\", build_time, \"detik\")\n",
        "print(\"Query time:\", query_time, \"detik\")\n",
        "print(\"Neighbors:\", neighbors[0][:5], \"...\")\n",
        "\n",
        "# ===============================\n",
        "# 3. FAISS (Flat Index)\n",
        "# ===============================\n",
        "print(\"\\n=== FAISS (IndexFlatL2) ===\")\n",
        "faiss_index = faiss.IndexFlatL2(dim)\n",
        "\n",
        "start = time.time()\n",
        "faiss_index.add(X)\n",
        "build_time = time.time() - start\n",
        "\n",
        "start = time.time()\n",
        "distances, indices = faiss_index.search(query, k)\n",
        "query_time = time.time() - start\n",
        "\n",
        "print(\"Build time:\", build_time, \"detik\")\n",
        "print(\"Query time:\", query_time, \"detik\")\n",
        "print(\"Neighbors:\", indices[0][:5], \"...\")\n",
        "\n",
        "# ===============================\n",
        "# 4. HNSW (hnswlib)\n",
        "# ===============================\n",
        "print(\"\\n=== HNSW (hnswlib) ===\")\n",
        "hnsw_index = hnswlib.Index(space='l2', dim=dim)\n",
        "\n",
        "start = time.time()\n",
        "hnsw_index.init_index(max_elements=n_data, ef_construction=200, M=16)\n",
        "hnsw_index.add_items(X)\n",
        "build_time = time.time() - start\n",
        "\n",
        "hnsw_index.set_ef(50)\n",
        "\n",
        "start = time.time()\n",
        "labels, distances = hnsw_index.knn_query(query, k=k)\n",
        "query_time = time.time() - start\n",
        "\n",
        "print(\"Build time:\", build_time, \"detik\")\n",
        "print(\"Query time:\", query_time, \"detik\")\n",
        "print(\"Neighbors:\", labels[0][:5], \"...\")"
      ]
    },
    {
      "cell_type": "markdown",
      "metadata": {
        "id": "-8MvJjULzRND"
      },
      "source": [
        "# **Lab 5**"
      ]
    },
    {
      "cell_type": "code",
      "execution_count": null,
      "metadata": {
        "colab": {
          "base_uri": "https://localhost:8080/",
          "height": 564
        },
        "id": "G2i-p5xB4U9j",
        "outputId": "62694fd4-d360-41b0-cf1c-44f183d19eab"
      },
      "outputs": [
        {
          "output_type": "display_data",
          "data": {
            "text/plain": [
              "<Figure size 800x600 with 1 Axes>"
            ],
            "image/png": "[encoded data removed]"
          },
          "metadata": {}
        }
      ],
      "source": [
        "import numpy as np\n",
        "import time\n",
        "import faiss\n",
        "from annoy import AnnoyIndex\n",
        "import hnswlib\n",
        "import matplotlib.pyplot as plt\n",
        "\n",
        "# -------------------------------\n",
        "# Dataset random\n",
        "# -------------------------------\n",
        "d = 128        # dimensi\n",
        "nb = 100000    # jumlah database vector\n",
        "nq = 1000      # jumlah query\n",
        "\n",
        "np.random.seed(42)\n",
        "xb = np.random.random((nb, d)).astype('float32')\n",
        "xq = np.random.random((nq, d)).astype('float32')\n",
        "\n",
        "# -------------------------------\n",
        "# Ground truth dengan FAISS brute force\n",
        "# -------------------------------\n",
        "index_flat = faiss.IndexFlatL2(d)\n",
        "index_flat.add(xb)\n",
        "k = 10\n",
        "_, gt_idx = index_flat.search(xq, k)\n",
        "\n",
        "# -------------------------------\n",
        "# Fungsi recall\n",
        "# -------------------------------\n",
        "def recall_at_k(I_pred, I_gt, k):\n",
        "    correct = 0\n",
        "    for i in range(len(I_pred)):\n",
        "        correct += len(set(I_pred[i][:k]) & set(I_gt[i][:k]))\n",
        "    return correct / (len(I_pred) * k)\n",
        "\n",
        "# -------------------------------\n",
        "# Benchmark Annoy\n",
        "# -------------------------------\n",
        "def run_annoy(xb, xq, n_trees=10, search_k=1000, k=10):\n",
        "    f = xb.shape[1]\n",
        "    index = AnnoyIndex(f, 'euclidean')\n",
        "    for i, v in enumerate(xb):\n",
        "        index.add_item(i, v)\n",
        "    index.build(n_trees)\n",
        "\n",
        "    start = time.time()\n",
        "    I = [index.get_nns_by_vector(v, k, search_k=search_k) for v in xq]\n",
        "    elapsed = (time.time() - start) * 1000 / len(xq)  # ms/query\n",
        "    rec = recall_at_k(I, gt_idx, k)\n",
        "    return rec, elapsed\n",
        "\n",
        "# -------------------------------\n",
        "# Benchmark FAISS IVF\n",
        "# -------------------------------\n",
        "def run_faiss(xb, xq, nlist=100, nprobe=10, k=10):\n",
        "    quantizer = faiss.IndexFlatL2(d)\n",
        "    index = faiss.IndexIVFFlat(quantizer, d, nlist, faiss.METRIC_L2)\n",
        "    index.train(xb)\n",
        "    index.add(xb)\n",
        "\n",
        "    index.nprobe = nprobe\n",
        "    start = time.time()\n",
        "    _, I = index.search(xq, k)\n",
        "    elapsed = (time.time() - start) * 1000 / len(xq)\n",
        "    rec = recall_at_k(I, gt_idx, k)\n",
        "    return rec, elapsed\n",
        "\n",
        "# -------------------------------\n",
        "# Benchmark HNSW\n",
        "# -------------------------------\n",
        "def run_hnsw(xb, xq, ef=100, M=16, k=10):\n",
        "    num_elements = xb.shape[0]\n",
        "    p = hnswlib.Index(space='l2', dim=d)\n",
        "    p.init_index(max_elements=num_elements, ef_construction=200, M=M)\n",
        "    p.add_items(xb)\n",
        "    p.set_ef(ef)\n",
        "\n",
        "    start = time.time()\n",
        "    I, _ = p.knn_query(xq, k)\n",
        "    elapsed = (time.time() - start) * 1000 / len(xq)\n",
        "    rec = recall_at_k(I, gt_idx, k)\n",
        "    return rec, elapsed\n",
        "\n",
        "# -------------------------------\n",
        "# Jalankan benchmark dengan beberapa parameter\n",
        "# -------------------------------\n",
        "results = {\"Annoy\": [], \"Faiss\": [], \"HNSW\": []}\n",
        "\n",
        "# Annoy\n",
        "for sk in [200, 500, 1000, 2000]:\n",
        "    rec, t = run_annoy(xb, xq, n_trees=10, search_k=sk)\n",
        "    results[\"Annoy\"].append((rec, t))\n",
        "\n",
        "# FAISS\n",
        "for npb in [1, 5, 10, 20]:\n",
        "    rec, t = run_faiss(xb, xq, nlist=100, nprobe=npb)\n",
        "    results[\"Faiss\"].append((rec, t))\n",
        "\n",
        "# HNSW\n",
        "for ef in [50, 100, 200, 400]:\n",
        "    rec, t = run_hnsw(xb, xq, ef=ef)\n",
        "    results[\"HNSW\"].append((rec, t))\n",
        "\n",
        "# -------------------------------\n",
        "# Visualisasi trade-off\n",
        "# -------------------------------\n",
        "plt.figure(figsize=(8,6))\n",
        "for label, color in zip(results.keys(), [\"blue\",\"green\",\"red\"]):\n",
        "    recall, qtime = zip(*results[label])\n",
        "    plt.plot(recall, qtime, marker=\"o\", label=label, color=color)\n",
        "\n",
        "plt.xlabel(\"Recall\")\n",
        "plt.ylabel(\"Query Time (ms/query, log scale)\")\n",
        "plt.yscale(\"log\")\n",
        "plt.gca().invert_yaxis()  # invert Y, makin kanan makin turun\n",
        "plt.title(\"ANN Benchmark (Annoy vs Faiss vs HNSW)\")\n",
        "plt.legend()\n",
        "plt.grid(True, which=\"both\", ls=\"--\", alpha=0.6)\n",
        "plt.show()"
      ]
    },
    {
      "cell_type": "markdown",
      "metadata": {
        "id": "rk8SR2mKzTja"
      },
      "source": [
        "# **Lab Assignment 1**"
      ]
    },
    {
      "cell_type": "markdown",
      "metadata": {
        "id": "XMGKn32r0sWm"
      },
      "source": [
        "Perform model performance comparison using ANNOY, FAISS, and HNWH using this following criteria, and fill the performance in term of time of execution."
      ]
    },
    {
      "cell_type": "code",
      "execution_count": null,
      "metadata": {
        "colab": {
          "base_uri": "https://localhost:8080/",
          "height": 783
        },
        "id": "8A35yMTZh6oa",
        "outputId": "20ba5366-98e6-4c3f-b8e7-d9a569ebb26c"
      },
      "outputs": [
        {
          "output_type": "stream",
          "name": "stdout",
          "text": [
            "Running benchmarks...\n",
            "\n",
            "Criterion: 1000/2D\n",
            "  Benchmarking Annoy...\n",
            "    Annoy Build Time: 0.0440 s, Query Time (per query): 0.000031 s\n",
            "  Benchmarking FAISS...\n",
            "    FAISS Build Time: 0.0465 s, Query Time (per query): 0.000005 s\n",
            "  Benchmarking HNSW...\n",
            "    HNSW Build Time: 0.0955 s, Query Time (per query): 0.000012 s\n",
            "\n",
            "Criterion: 1000/5D\n",
            "  Benchmarking Annoy...\n",
            "    Annoy Build Time: 0.0287 s, Query Time (per query): 0.000030 s\n",
            "  Benchmarking FAISS...\n",
            "    FAISS Build Time: 0.0596 s, Query Time (per query): 0.000006 s\n",
            "  Benchmarking HNSW...\n",
            "    HNSW Build Time: 0.1070 s, Query Time (per query): 0.000024 s\n",
            "\n",
            "Criterion: 1000000/2D\n",
            "  Benchmarking Annoy...\n",
            "    Annoy Build Time: 27.3730 s, Query Time (per query): 0.000066 s\n",
            "  Benchmarking FAISS...\n",
            "    FAISS Build Time: 0.3699 s, Query Time (per query): 0.000819 s\n",
            "  Benchmarking HNSW...\n",
            "    HNSW Build Time: 97.9289 s, Query Time (per query): 0.000016 s\n",
            "\n",
            "Criterion: 1000000/5D\n",
            "  Benchmarking Annoy...\n",
            "    Annoy Build Time: 22.6101 s, Query Time (per query): 0.000050 s\n",
            "  Benchmarking FAISS...\n",
            "    FAISS Build Time: 0.1882 s, Query Time (per query): 0.000501 s\n",
            "  Benchmarking HNSW...\n",
            "    HNSW Build Time: 159.9695 s, Query Time (per query): 0.000053 s\n",
            "\n",
            "--- Performance Comparison Table ---\n"
          ]
        },
        {
          "output_type": "display_data",
          "data": {
            "text/plain": [
              "            Annoy Build Time (s)  Annoy Query Time (s/query)  \\\n",
              "1000/2D                 0.043991                    0.000031   \n",
              "1000/5D                 0.028699                    0.000030   \n",
              "1000000/2D             27.373050                    0.000066   \n",
              "1000000/5D             22.610120                    0.000050   \n",
              "\n",
              "            FAISS Build Time (s)  FAISS Query Time (s/query)  \\\n",
              "1000/2D                 0.046488                    0.000005   \n",
              "1000/5D                 0.059635                    0.000006   \n",
              "1000000/2D              0.369947                    0.000819   \n",
              "1000000/5D              0.188228                    0.000501   \n",
              "\n",
              "            HNSW Build Time (s)  HNSW Query Time (s/query)  \n",
              "1000/2D                0.095502                   0.000012  \n",
              "1000/5D                0.107043                   0.000024  \n",
              "1000000/2D            97.928919                   0.000016  \n",
              "1000000/5D           159.969480                   0.000053  "
            ],
            "text/html": [
              "\n",
              "  <div id=\"df-4c01f507-3391-453a-bed6-849c1f04b0e7\" class=\"colab-df-container\">\n",
              "    <div>\n",
              "<style scoped>\n",
              "    .dataframe tbody tr th:only-of-type {\n",
              "        vertical-align: middle;\n",
              "    }\n",
              "\n",
              "    .dataframe tbody tr th {\n",
              "        vertical-align: top;\n",
              "    }\n",
              "\n",
              "    .dataframe thead th {\n",
              "        text-align: right;\n",
              "    }\n",
              "</style>\n",
              "<table border=\"1\" class=\"dataframe\">\n",
              "  <thead>\n",
              "    <tr style=\"text-align: right;\">\n",
              "      <th></th>\n",
              "      <th>Annoy Build Time (s)</th>\n",
              "      <th>Annoy Query Time (s/query)</th>\n",
              "      <th>FAISS Build Time (s)</th>\n",
              "      <th>FAISS Query Time (s/query)</th>\n",
              "      <th>HNSW Build Time (s)</th>\n",
              "      <th>HNSW Query Time (s/query)</th>\n",
              "    </tr>\n",
              "  </thead>\n",
              "  <tbody>\n",
              "    <tr>\n",
              "      <th>1000/2D</th>\n",
              "      <td>0.043991</td>\n",
              "      <td>0.000031</td>\n",
              "      <td>0.046488</td>\n",
              "      <td>0.000005</td>\n",
              "      <td>0.095502</td>\n",
              "      <td>0.000012</td>\n",
              "    </tr>\n",
              "    <tr>\n",
              "      <th>1000/5D</th>\n",
              "      <td>0.028699</td>\n",
              "      <td>0.000030</td>\n",
              "      <td>0.059635</td>\n",
              "      <td>0.000006</td>\n",
              "      <td>0.107043</td>\n",
              "      <td>0.000024</td>\n",
              "    </tr>\n",
              "    <tr>\n",
              "      <th>1000000/2D</th>\n",
              "      <td>27.373050</td>\n",
              "      <td>0.000066</td>\n",
              "      <td>0.369947</td>\n",
              "      <td>0.000819</td>\n",
              "      <td>97.928919</td>\n",
              "      <td>0.000016</td>\n",
              "    </tr>\n",
              "    <tr>\n",
              "      <th>1000000/5D</th>\n",
              "      <td>22.610120</td>\n",
              "      <td>0.000050</td>\n",
              "      <td>0.188228</td>\n",
              "      <td>0.000501</td>\n",
              "      <td>159.969480</td>\n",
              "      <td>0.000053</td>\n",
              "    </tr>\n",
              "  </tbody>\n",
              "</table>\n",
              "</div>\n",
              "    <div class=\"colab-df-buttons\">\n",
              "\n",
              "  <div class=\"colab-df-container\">\n",
              "    <button class=\"colab-df-convert\" onclick=\"convertToInteractive('df-4c01f507-3391-453a-bed6-849c1f04b0e7')\"\n",
              "            title=\"Convert this dataframe to an interactive table.\"\n",
              "            style=\"display:none;\">\n",
              "\n",
              "  <svg xmlns=\"http://www.w3.org/2000/svg\" height=\"24px\" viewBox=\"0 -960 960 960\">\n",
              "    <path d=\"M120-120v-720h720v720H120Zm60-500h600v-160H180v160Zm220 220h160v-160H400v160Zm0 220h160v-160H400v160ZM180-400h160v-160H180v160Zm440 0h160v-160H620v160ZM180-180h160v-160H180v160Zm440 0h160v-160H620v160Z\"/>\n",
              "  </svg>\n",
              "    </button>\n",
              "\n",
              "  <style>\n",
              "    .colab-df-container {\n",
              "      display:flex;\n",
              "      gap: 12px;\n",
              "    }\n",
              "\n",
              "    .colab-df-convert {\n",
              "      background-color: #E8F0FE;\n",
              "      border: none;\n",
              "      border-radius: 50%;\n",
              "      cursor: pointer;\n",
              "      display: none;\n",
              "      fill: #1967D2;\n",
              "      height: 32px;\n",
              "      padding: 0 0 0 0;\n",
              "      width: 32px;\n",
              "    }\n",
              "\n",
              "    .colab-df-convert:hover {\n",
              "      background-color: #E2EBFA;\n",
              "      box-shadow: 0px 1px 2px rgba(60, 64, 67, 0.3), 0px 1px 3px 1px rgba(60, 64, 67, 0.15);\n",
              "      fill: #174EA6;\n",
              "    }\n",
              "\n",
              "    .colab-df-buttons div {\n",
              "      margin-bottom: 4px;\n",
              "    }\n",
              "\n",
              "    [theme=dark] .colab-df-convert {\n",
              "      background-color: #3B4455;\n",
              "      fill: #D2E3FC;\n",
              "    }\n",
              "\n",
              "    [theme=dark] .colab-df-convert:hover {\n",
              "      background-color: #434B5C;\n",
              "      box-shadow: 0px 1px 3px 1px rgba(0, 0, 0, 0.15);\n",
              "      filter: drop-shadow(0px 1px 2px rgba(0, 0, 0, 0.3));\n",
              "      fill: #FFFFFF;\n",
              "    }\n",
              "  </style>\n",
              "\n",
              "    <script>\n",
              "      const buttonEl =\n",
              "        document.querySelector('#df-4c01f507-3391-453a-bed6-849c1f04b0e7 button.colab-df-convert');\n",
              "      buttonEl.style.display =\n",
              "        google.colab.kernel.accessAllowed ? 'block' : 'none';\n",
              "\n",
              "      async function convertToInteractive(key) {\n",
              "        const element = document.querySelector('#df-4c01f507-3391-453a-bed6-849c1f04b0e7');\n",
              "        const dataTable =\n",
              "          await google.colab.kernel.invokeFunction('convertToInteractive',\n",
              "                                                    [key], {});\n",
              "        if (!dataTable) return;\n",
              "\n",
              "        const docLinkHtml = 'Like what you see? Visit the ' +\n",
              "          '<a target=\"_blank\" href=https://colab.research.google.com/notebooks/data_table.ipynb>data table notebook</a>'\n",
              "          + ' to learn more about interactive tables.';\n",
              "        element.innerHTML = '';\n",
              "        dataTable['output_type'] = 'display_data';\n",
              "        await google.colab.output.renderOutput(dataTable, element);\n",
              "        const docLink = document.createElement('div');\n",
              "        docLink.innerHTML = docLinkHtml;\n",
              "        element.appendChild(docLink);\n",
              "      }\n",
              "    </script>\n",
              "  </div>\n",
              "\n",
              "\n",
              "    <div id=\"df-f43eaeeb-c31f-4c20-bdfe-890ec1796643\">\n",
              "      <button class=\"colab-df-quickchart\" onclick=\"quickchart('df-f43eaeeb-c31f-4c20-bdfe-890ec1796643')\"\n",
              "                title=\"Suggest charts\"\n",
              "                style=\"display:none;\">\n",
              "\n",
              "<svg xmlns=\"http://www.w3.org/2000/svg\" height=\"24px\"viewBox=\"0 0 24 24\"\n",
              "     width=\"24px\">\n",
              "    <g>\n",
              "        <path d=\"M19 3H5c-1.1 0-2 .9-2 2v14c0 1.1.9 2 2 2h14c1.1 0 2-.9 2-2V5c0-1.1-.9-2-2-2zM9 17H7v-7h2v7zm4 0h-2V7h2v10zm4 0h-2v-4h2v4z\"/>\n",
              "    </g>\n",
              "</svg>\n",
              "      </button>\n",
              "\n",
              "<style>\n",
              "  .colab-df-quickchart {\n",
              "      --bg-color: #E8F0FE;\n",
              "      --fill-color: #1967D2;\n",
              "      --hover-bg-color: #E2EBFA;\n",
              "      --hover-fill-color: #174EA6;\n",
              "      --disabled-fill-color: #AAA;\n",
              "      --disabled-bg-color: #DDD;\n",
              "  }\n",
              "\n",
              "  [theme=dark] .colab-df-quickchart {\n",
              "      --bg-color: #3B4455;\n",
              "      --fill-color: #D2E3FC;\n",
              "      --hover-bg-color: #434B5C;\n",
              "      --hover-fill-color: #FFFFFF;\n",
              "      --disabled-bg-color: #3B4455;\n",
              "      --disabled-fill-color: #666;\n",
              "  }\n",
              "\n",
              "  .colab-df-quickchart {\n",
              "    background-color: var(--bg-color);\n",
              "    border: none;\n",
              "    border-radius: 50%;\n",
              "    cursor: pointer;\n",
              "    display: none;\n",
              "    fill: var(--fill-color);\n",
              "    height: 32px;\n",
              "    padding: 0;\n",
              "    width: 32px;\n",
              "  }\n",
              "\n",
              "  .colab-df-quickchart:hover {\n",
              "    background-color: var(--hover-bg-color);\n",
              "    box-shadow: 0 1px 2px rgba(60, 64, 67, 0.3), 0 1px 3px 1px rgba(60, 64, 67, 0.15);\n",
              "    fill: var(--button-hover-fill-color);\n",
              "  }\n",
              "\n",
              "  .colab-df-quickchart-complete:disabled,\n",
              "  .colab-df-quickchart-complete:disabled:hover {\n",
              "    background-color: var(--disabled-bg-color);\n",
              "    fill: var(--disabled-fill-color);\n",
              "    box-shadow: none;\n",
              "  }\n",
              "\n",
              "  .colab-df-spinner {\n",
              "    border: 2px solid var(--fill-color);\n",
              "    border-color: transparent;\n",
              "    border-bottom-color: var(--fill-color);\n",
              "    animation:\n",
              "      spin 1s steps(1) infinite;\n",
              "  }\n",
              "\n",
              "  @keyframes spin {\n",
              "    0% {\n",
              "      border-color: transparent;\n",
              "      border-bottom-color: var(--fill-color);\n",
              "      border-left-color: var(--fill-color);\n",
              "    }\n",
              "    20% {\n",
              "      border-color: transparent;\n",
              "      border-left-color: var(--fill-color);\n",
              "      border-top-color: var(--fill-color);\n",
              "    }\n",
              "    30% {\n",
              "      border-color: transparent;\n",
              "      border-left-color: var(--fill-color);\n",
              "      border-top-color: var(--fill-color);\n",
              "      border-right-color: var(--fill-color);\n",
              "    }\n",
              "    40% {\n",
              "      border-color: transparent;\n",
              "      border-right-color: var(--fill-color);\n",
              "      border-top-color: var(--fill-color);\n",
              "    }\n",
              "    60% {\n",
              "      border-color: transparent;\n",
              "      border-right-color: var(--fill-color);\n",
              "    }\n",
              "    80% {\n",
              "      border-color: transparent;\n",
              "      border-right-color: var(--fill-color);\n",
              "      border-bottom-color: var(--fill-color);\n",
              "    }\n",
              "    90% {\n",
              "      border-color: transparent;\n",
              "      border-bottom-color: var(--fill-color);\n",
              "    }\n",
              "  }\n",
              "</style>\n",
              "\n",
              "      <script>\n",
              "        async function quickchart(key) {\n",
              "          const quickchartButtonEl =\n",
              "            document.querySelector('#' + key + ' button');\n",
              "          quickchartButtonEl.disabled = true;  // To prevent multiple clicks.\n",
              "          quickchartButtonEl.classList.add('colab-df-spinner');\n",
              "          try {\n",
              "            const charts = await google.colab.kernel.invokeFunction(\n",
              "                'suggestCharts', [key], {});\n",
              "          } catch (error) {\n",
              "            console.error('Error during call to suggestCharts:', error);\n",
              "          }\n",
              "          quickchartButtonEl.classList.remove('colab-df-spinner');\n",
              "          quickchartButtonEl.classList.add('colab-df-quickchart-complete');\n",
              "        }\n",
              "        (() => {\n",
              "          let quickchartButtonEl =\n",
              "            document.querySelector('#df-f43eaeeb-c31f-4c20-bdfe-890ec1796643 button');\n",
              "          quickchartButtonEl.style.display =\n",
              "            google.colab.kernel.accessAllowed ? 'block' : 'none';\n",
              "        })();\n",
              "      </script>\n",
              "    </div>\n",
              "\n",
              "  <div id=\"id_6189712c-c93f-4479-b369-ace4a695eb62\">\n",
              "    <style>\n",
              "      .colab-df-generate {\n",
              "        background-color: #E8F0FE;\n",
              "        border: none;\n",
              "        border-radius: 50%;\n",
              "        cursor: pointer;\n",
              "        display: none;\n",
              "        fill: #1967D2;\n",
              "        height: 32px;\n",
              "        padding: 0 0 0 0;\n",
              "        width: 32px;\n",
              "      }\n",
              "\n",
              "      .colab-df-generate:hover {\n",
              "        background-color: #E2EBFA;\n",
              "        box-shadow: 0px 1px 2px rgba(60, 64, 67, 0.3), 0px 1px 3px 1px rgba(60, 64, 67, 0.15);\n",
              "        fill: #174EA6;\n",
              "      }\n",
              "\n",
              "      [theme=dark] .colab-df-generate {\n",
              "        background-color: #3B4455;\n",
              "        fill: #D2E3FC;\n",
              "      }\n",
              "\n",
              "      [theme=dark] .colab-df-generate:hover {\n",
              "        background-color: #434B5C;\n",
              "        box-shadow: 0px 1px 3px 1px rgba(0, 0, 0, 0.15);\n",
              "        filter: drop-shadow(0px 1px 2px rgba(0, 0, 0, 0.3));\n",
              "        fill: #FFFFFF;\n",
              "      }\n",
              "    </style>\n",
              "    <button class=\"colab-df-generate\" onclick=\"generateWithVariable('df_results')\"\n",
              "            title=\"Generate code using this dataframe.\"\n",
              "            style=\"display:none;\">\n",
              "\n",
              "  <svg xmlns=\"http://www.w3.org/2000/svg\" height=\"24px\"viewBox=\"0 0 24 24\"\n",
              "       width=\"24px\">\n",
              "    <path d=\"M7,19H8.4L18.45,9,17,7.55,7,17.6ZM5,21V16.75L18.45,3.32a2,2,0,0,1,2.83,0l1.4,1.43a1.91,1.91,0,0,1,.58,1.4,1.91,1.91,0,0,1-.58,1.4L9.25,21ZM18.45,9,17,7.55Zm-12,3A5.31,5.31,0,0,0,4.9,8.1,5.31,5.31,0,0,0,1,6.5,5.31,5.31,0,0,0,4.9,4.9,5.31,5.31,0,0,0,6.5,1,5.31,5.31,0,0,0,8.1,4.9,5.31,5.31,0,0,0,12,6.5,5.46,5.46,0,0,0,6.5,12Z\"/>\n",
              "  </svg>\n",
              "    </button>\n",
              "    <script>\n",
              "      (() => {\n",
              "      const buttonEl =\n",
              "        document.querySelector('#id_6189712c-c93f-4479-b369-ace4a695eb62 button.colab-df-generate');\n",
              "      buttonEl.style.display =\n",
              "        google.colab.kernel.accessAllowed ? 'block' : 'none';\n",
              "\n",
              "      buttonEl.onclick = () => {\n",
              "        google.colab.notebook.generateWithVariable('df_results');\n",
              "      }\n",
              "      })();\n",
              "    </script>\n",
              "  </div>\n",
              "\n",
              "    </div>\n",
              "  </div>\n"
            ],
            "application/vnd.google.colaboratory.intrinsic+json": {
              "type": "dataframe",
              "variable_name": "df_results",
              "summary": "{\n  \"name\": \"df_results\",\n  \"rows\": 4,\n  \"fields\": [\n    {\n      \"column\": \"Annoy Build Time (s)\",\n      \"properties\": {\n        \"dtype\": \"number\",\n        \"std\": 14.538533504200728,\n        \"min\": 0.028699159622192383,\n        \"max\": 27.37304973602295,\n        \"num_unique_values\": 4,\n        \"samples\": [\n          0.028699159622192383,\n          22.61012029647827,\n          0.0439908504486084\n        ],\n        \"semantic_type\": \"\",\n        \"description\": \"\"\n      }\n    },\n    {\n      \"column\": \"Annoy Query Time (s/query)\",\n      \"properties\": {\n        \"dtype\": \"number\",\n        \"std\": 1.7139254536290807e-05,\n        \"min\": 3.036785125732422e-05,\n        \"max\": 6.597781181335449e-05,\n        \"num_unique_values\": 4,\n        \"samples\": [\n          3.036785125732422e-05,\n          5.012845993041992e-05,\n          3.0762672424316404e-05\n        ],\n        \"semantic_type\": \"\",\n        \"description\": \"\"\n      }\n    },\n    {\n      \"column\": \"FAISS Build Time (s)\",\n      \"properties\": {\n        \"dtype\": \"number\",\n        \"std\": 0.1502056465470456,\n        \"min\": 0.04648756980895996,\n        \"max\": 0.3699469566345215,\n        \"num_unique_values\": 4,\n        \"samples\": [\n          0.05963468551635742,\n          0.18822765350341797,\n          0.04648756980895996\n        ],\n        \"semantic_type\": \"\",\n        \"description\": \"\"\n      }\n    },\n    {\n      \"column\": \"FAISS Query Time (s/query)\",\n      \"properties\": {\n        \"dtype\": \"number\",\n        \"std\": 0.0003995187022633711,\n        \"min\": 5.4860115051269535e-06,\n        \"max\": 0.000819129228591919,\n        \"num_unique_values\": 4,\n        \"samples\": [\n          5.7463645935058594e-06,\n          0.0005008206367492676,\n          5.4860115051269535e-06\n        ],\n        \"semantic_type\": \"\",\n        \"description\": \"\"\n      }\n    },\n    {\n      \"column\": \"HNSW Build Time (s)\",\n      \"properties\": {\n        \"dtype\": \"number\",\n        \"std\": 78.58393373219275,\n        \"min\": 0.09550237655639648,\n        \"max\": 159.9694802761078,\n        \"num_unique_values\": 4,\n        \"samples\": [\n          0.10704326629638672,\n          159.9694802761078,\n          0.09550237655639648\n        ],\n        \"semantic_type\": \"\",\n        \"description\": \"\"\n      }\n    },\n    {\n      \"column\": \"HNSW Query Time (s/query)\",\n      \"properties\": {\n        \"dtype\": \"number\",\n        \"std\": 1.8658035724776842e-05,\n        \"min\": 1.195240020751953e-05,\n        \"max\": 5.314111709594726e-05,\n        \"num_unique_values\": 4,\n        \"samples\": [\n          2.4150848388671877e-05,\n          5.314111709594726e-05,\n          1.195240020751953e-05\n        ],\n        \"semantic_type\": \"\",\n        \"description\": \"\"\n      }\n    }\n  ]\n}"
            }
          },
          "metadata": {}
        }
      ],
      "source": [
        "import numpy as np\n",
        "import time\n",
        "import faiss\n",
        "from annoy import AnnoyIndex\n",
        "import hnswlib\n",
        "import pandas as pd\n",
        "\n",
        "# -------------------------------\n",
        "# Benchmark Annoy\n",
        "# -------------------------------\n",
        "def run_annoy_benchmark(nb, d, k=10):\n",
        "    f = d\n",
        "    index = AnnoyIndex(f, 'euclidean')\n",
        "    data = np.random.random((nb, d)).astype('float32')\n",
        "    query = np.random.random((1000, d)).astype('float32')\n",
        "\n",
        "    build_start = time.time()\n",
        "    for i, v in enumerate(data):\n",
        "        index.add_item(i, v)\n",
        "    index.build(10)  # 10 trees\n",
        "    build_time = time.time() - build_start\n",
        "\n",
        "    # Prepare for querying (Annoy uses vector directly)\n",
        "    query_vectors = query\n",
        "\n",
        "    query_start = time.time()\n",
        "    # Using a loop for multiple queries\n",
        "    for q_vec in query_vectors:\n",
        "        index.get_nns_by_vector(q_vec, k)\n",
        "    query_time = (time.time() - query_start) / 1000 # time per query\n",
        "\n",
        "    return build_time, query_time\n",
        "\n",
        "# -------------------------------\n",
        "# Benchmark FAISS\n",
        "# -------------------------------\n",
        "def run_faiss_benchmark(nb, d, k=10):\n",
        "    data = np.random.random((nb, d)).astype('float32')\n",
        "    query = np.random.random((1000, d)).astype('float32')\n",
        "\n",
        "    quantizer = faiss.IndexFlatL2(d)\n",
        "    index = faiss.IndexIVFFlat(quantizer, d, 100, faiss.METRIC_L2) # nlist=100\n",
        "\n",
        "    build_start = time.time()\n",
        "    index.train(data)\n",
        "    index.add(data)\n",
        "    build_time = time.time() - build_start\n",
        "\n",
        "    index.nprobe = 10 # nprobe=10\n",
        "    query_start = time.time()\n",
        "    _, I = index.search(query, k)\n",
        "    query_time = (time.time() - query_start) / 1000 # time per query\n",
        "\n",
        "    return build_time, query_time\n",
        "\n",
        "\n",
        "# -------------------------------\n",
        "# Benchmark HNSW\n",
        "# -------------------------------\n",
        "def run_hnsw_benchmark(nb, d, k=10):\n",
        "    data = np.random.random((nb, d)).astype('float32')\n",
        "    query = np.random.random((1000, d)).astype('float32')\n",
        "\n",
        "    num_elements = nb\n",
        "    p = hnswlib.Index(space='l2', dim=d)\n",
        "\n",
        "    build_start = time.time()\n",
        "    p.init_index(max_elements=num_elements, ef_construction=200, M=16)\n",
        "    p.add_items(data)\n",
        "    build_time = time.time() - build_start\n",
        "\n",
        "    p.set_ef(50) # ef=50\n",
        "    query_start = time.time()\n",
        "    p.knn_query(query, k=k)\n",
        "    query_time = (time.time() - query_start) / 1000 # time per query\n",
        "\n",
        "    return build_time, query_time\n",
        "\n",
        "# -------------------------------\n",
        "# Run benchmark with different parameters and collect results\n",
        "# -------------------------------\n",
        "criteria = {\n",
        "    \"1000/2D\": (1000, 2),\n",
        "    \"1000/5D\": (1000, 5),\n",
        "    \"1000000/2D\": (1000000, 2),\n",
        "    \"1000000/5D\": (1000000, 5)\n",
        "}\n",
        "\n",
        "results = {}\n",
        "\n",
        "print(\"Running benchmarks...\")\n",
        "for label, (nb, d) in criteria.items():\n",
        "    print(f\"\\nCriterion: {label}\")\n",
        "    np.random.seed(42) # for reproducibility\n",
        "\n",
        "    print(\"  Benchmarking Annoy...\")\n",
        "    annoy_build, annoy_query = run_annoy_benchmark(nb, d)\n",
        "    print(f\"    Annoy Build Time: {annoy_build:.4f} s, Query Time (per query): {annoy_query:.6f} s\")\n",
        "\n",
        "\n",
        "    print(\"  Benchmarking FAISS...\")\n",
        "    faiss_build, faiss_query = run_faiss_benchmark(nb, d)\n",
        "    print(f\"    FAISS Build Time: {faiss_build:.4f} s, Query Time (per query): {faiss_query:.6f} s\")\n",
        "\n",
        "\n",
        "    print(\"  Benchmarking HNSW...\")\n",
        "    hnsw_build, hnsw_query = run_hnsw_benchmark(nb, d)\n",
        "    print(f\"    HNSW Build Time: {hnsw_build:.4f} s, Query Time (per query): {hnsw_query:.6f} s\")\n",
        "\n",
        "    results[label] = {\n",
        "        \"Annoy Build Time (s)\": annoy_build,\n",
        "        \"Annoy Query Time (s/query)\": annoy_query,\n",
        "        \"FAISS Build Time (s)\": faiss_build,\n",
        "        \"FAISS Query Time (s/query)\": faiss_query,\n",
        "        \"HNSW Build Time (s)\": hnsw_build,\n",
        "        \"HNSW Query Time (s/query)\": hnsw_query\n",
        "    }\n",
        "\n",
        "# -------------------------------\n",
        "# Display results in a table\n",
        "# -------------------------------\n",
        "df_results = pd.DataFrame.from_dict(results, orient='index')\n",
        "df_results = df_results[['Annoy Build Time (s)', 'Annoy Query Time (s/query)',\n",
        "                         'FAISS Build Time (s)', 'FAISS Query Time (s/query)',\n",
        "                         'HNSW Build Time (s)', 'HNSW Query Time (s/query)']]\n",
        "\n",
        "print(\"\\n--- Performance Comparison Table ---\")\n",
        "display(df_results)"
      ]
    },
    {
      "cell_type": "markdown",
      "metadata": {
        "id": "zDbVziNvzWHz"
      },
      "source": [
        "# **Lab Assignment 2**"
      ]
    },
    {
      "cell_type": "markdown",
      "metadata": {
        "id": "ncYYhxzs0vC3"
      },
      "source": [
        "Conduct an experiment using Annoy, FAISS, and HNSWLIB on a large secondary dataset (Micro Spotify) available at the following link:\n",
        "👉 https://www.kaggle.com/datasets/bwandowando/**spotify**-songs-with-attributes-and-lyrics/data\n",
        "\n",
        "\n",
        "1. Download the data and load the CSV file (select the first dataset of the two available).\n",
        "2. Select only the numerical features, and normalize them using StandardScaler.\n",
        "3. Perform nearest track search and compare the results.\n",
        "4. Compare the performance among Exact NN, Annoy, FAISS, and HNSW.\n",
        "\n",
        "**Boilerplate**\n",
        "\n",
        "Use this following code as starter. It is already include with feature selection and simple preprocessing.\n",
        "\n",
        "\n",
        "```\n",
        "import pandas as pd\n",
        "import numpy as np\n",
        "import time\n",
        "import faiss\n",
        "from annoy import AnnoyIndex\n",
        "import hnswlib\n",
        "from sklearn.neighbors import NearestNeighbors\n",
        "from sklearn.preprocessing import StandardScaler\n",
        "\n",
        "# -------------------------------\n",
        "# Load dataset\n",
        "# -------------------------------\n",
        "df = pd.read_csv('spotify_songs.csv')  # ganti path sesuai lokasi file\n",
        "features = ['danceability', 'energy', 'loudness', 'speechiness',\n",
        "            'acousticness', 'instrumentalness', 'liveness', 'valence', 'tempo']\n",
        "X = df[features].values\n",
        "\n",
        "# Standarisasi fitur\n",
        "scaler = StandardScaler()\n",
        "X_scaled = scaler.fit_transform(X)\n",
        "\n",
        "k = 10  # jumlah nearest neighbors\n",
        "```\n",
        "\n",
        "\n"
      ]
    },
    {
      "cell_type": "code",
      "execution_count": null,
      "metadata": {
        "colab": {
          "base_uri": "https://localhost:8080/"
        },
        "id": "TLz3WVhRwTsn",
        "outputId": "fe05a4e8-f097-4669-903f-97326b9f7cfb"
      },
      "outputs": [
        {
          "name": "stdout",
          "output_type": "stream",
          "text": [
            "Mounted at /content/drive\n"
          ]
        }
      ],
      "source": [
        "from google.colab import drive\n",
        "drive.mount('/content/drive')"
      ]
    },
    {
      "cell_type": "code",
      "execution_count": null,
      "metadata": {
        "colab": {
          "base_uri": "https://localhost:8080/"
        },
        "id": "50KFmTXckyjR",
        "outputId": "a985d18c-b0ae-4147-8b63-02760aa0552b"
      },
      "outputs": [
        {
          "output_type": "stream",
          "name": "stdout",
          "text": [
            "Loaded rows: 955320 features: 9\n"
          ]
        }
      ],
      "source": [
        "import pandas as pd\n",
        "import numpy as np\n",
        "from sklearn.preprocessing import StandardScaler\n",
        "\n",
        "CSV = '/content/drive/MyDrive/ML/songs_with_attributes_and_lyrics10.csv'  # sesuaikan path\n",
        "FEATURES = ['danceability', 'energy', 'loudness', 'speechiness',\n",
        "            'acousticness', 'instrumentalness', 'liveness', 'valence', 'tempo']\n",
        "\n",
        "df = pd.read_csv(CSV)\n",
        "A = df[FEATURES].values  # original array (float64)\n",
        "print(\"Loaded rows:\", A.shape[0], \"features:\", A.shape[1])\n"
      ]
    },
    {
      "cell_type": "code",
      "source": [
        "scaler = StandardScaler()\n",
        "A_scaled = scaler.fit_transform(A)  # tetap float64 for now\n",
        "\n",
        "print(\"Scaled feature sample : \", A_scaled[:5])\n",
        "print(\"Shape : \", A_scaled.shape)\n"
      ],
      "metadata": {
        "colab": {
          "base_uri": "https://localhost:8080/"
        },
        "id": "D-H6eVkT9ZCS",
        "outputId": "a159c373-7e07-4da0-89a2-d353eb84c553"
      },
      "execution_count": null,
      "outputs": [
        {
          "output_type": "stream",
          "name": "stdout",
          "text": [
            "Scaled feature sample :  [[-0.7993069  -0.19864811 -0.87638549 -0.28127217 -0.90379193  3.55339717\n",
            "   1.28005204 -1.17358297 -0.75050368]\n",
            " [ 1.39759768 -0.01859905 -0.34315988  2.48965792  1.97895487 -0.38476917\n",
            "  -0.22552979 -0.79977796 -1.4297021 ]\n",
            " [-3.24358412 -2.58367008 -3.24821096 -0.90002355  2.00461236 -0.38476917\n",
            "   1.32088138 -1.94107622 -4.13816703]\n",
            " [ 0.62603066  0.96120282  0.39391508 -0.48572915 -0.88377909 -0.38470949\n",
            "  -0.8818614   1.79299717  0.04610963]\n",
            " [ 0.63781031  1.00726188 -0.18387785 -0.45775082 -0.61180974 -0.38467941\n",
            "  -0.8512394   1.84071696  0.04651591]]\n",
            "Shape :  (955320, 9)\n"
          ]
        }
      ]
    },
    {
      "cell_type": "code",
      "source": [
        "from sklearn.neighbors import NearestNeighbors\n",
        "import time as tm\n",
        "\n",
        "K = 10\n",
        "Q_IDX = 100\n",
        "q_vec = A_scaled[Q_IDX].reshape(1, -1)\n",
        "\n",
        "t0 = tm.perf_counter()\n",
        "nn = NearestNeighbors(n_neighbors=K, algorithm='brute', metric='euclidean')\n",
        "nn.fit(A_scaled)\n",
        "dists_exact, inds_exact = nn.kneighbors(q_vec)\n",
        "t_exact = tm.perf_counter() - t0\n",
        "\n",
        "print(\"Exact NN indices:\", inds_exact)\n",
        "print(\"Exact NN distances:\", dists_exact)\n",
        "print(\"Exact NN time:\", t_exact, \"seconds\")\n"
      ],
      "metadata": {
        "colab": {
          "base_uri": "https://localhost:8080/"
        },
        "id": "mQDAp6i19bvu",
        "outputId": "1b907d90-404a-4283-bfab-c333a983e604"
      },
      "execution_count": null,
      "outputs": [
        {
          "output_type": "stream",
          "name": "stdout",
          "text": [
            "Exact NN indices: [[   100 814549 250273 354470 793977 683626 843918  14210 365044 819999]]\n",
            "Exact NN distances: [[0.         1.29201942 1.40137289 1.65303427 1.67632189 1.73909912\n",
            "  1.74027484 1.7628803  1.77549768 1.79298379]]\n",
            "Exact NN time: 0.2016360359993996 seconds\n"
          ]
        }
      ]
    },
    {
      "cell_type": "code",
      "source": [
        "from annoy import AnnoyIndex\n",
        "import time as tm\n",
        "\n",
        "dim = A_scaled.shape[1]\n",
        "ann = AnnoyIndex(dim, metric='euclidean')\n",
        "\n",
        "t0 = tm.perf_counter()\n",
        "for i in range(A_scaled.shape[0]):\n",
        "    ann.add_item(i, A_scaled[i].tolist())\n",
        "ann.build(n_trees=10)\n",
        "build_time_annoy = tm.perf_counter() - t0\n",
        "\n",
        "tq0 = tm.perf_counter()\n",
        "ann_result = ann.get_nns_by_vector(q_vec.flatten().tolist(), K, include_distances=True)\n",
        "ann_query_time = tm.perf_counter() - tq0\n",
        "\n",
        "# ann_result is (indices_list, distances_list)\n",
        "print(\"Annoy neighbors:\", ann_result[0])\n",
        "print(\"Annoy build time:\", build_time_annoy)\n",
        "print(\"Annoy query time:\", ann_query_time)\n"
      ],
      "metadata": {
        "colab": {
          "base_uri": "https://localhost:8080/"
        },
        "id": "EdcH5jQd9dft",
        "outputId": "5ebafc50-7805-4607-cb91-f78042ebb8fc"
      },
      "execution_count": null,
      "outputs": [
        {
          "output_type": "stream",
          "name": "stdout",
          "text": [
            "Annoy neighbors: [100, 814549, 250273, 354470, 683626, 365044, 819999, 259765, 67613, 905898]\n",
            "Annoy build time: 15.98756251300074\n",
            "Annoy query time: 0.0002619639999466017\n"
          ]
        }
      ]
    },
    {
      "cell_type": "code",
      "source": [
        "import faiss\n",
        "import time as tm\n",
        "\n",
        "# FAISS requires float32\n",
        "B = A_scaled.astype(np.float32)\n",
        "dim = B.shape[1]\n",
        "index = faiss.IndexFlatL2(dim)\n",
        "\n",
        "t0 = tm.perf_counter()\n",
        "index.add(B)\n",
        "build_time_faiss = tm.perf_counter() - t0\n",
        "\n",
        "tq0 = tm.perf_counter()\n",
        "d_faiss, i_faiss = index.search(q_vec.astype(np.float32), K)\n",
        "faiss_query_time = tm.perf_counter() - tq0\n",
        "\n",
        "print(\"FAISS neighbors:\", i_faiss[0])\n",
        "print(\"FAISS build time:\", build_time_faiss)\n",
        "print(\"FAISS query time:\", faiss_query_time)\n"
      ],
      "metadata": {
        "colab": {
          "base_uri": "https://localhost:8080/"
        },
        "id": "YN__cnPV9fOU",
        "outputId": "1f62f2e5-508f-47ee-d339-28251efd3f84"
      },
      "execution_count": null,
      "outputs": [
        {
          "output_type": "stream",
          "name": "stdout",
          "text": [
            "FAISS neighbors: [   100 814549 250273 354470 793977 683626 843918  14210 365044 819999]\n",
            "FAISS build time: 0.057382621000215295\n",
            "FAISS query time: 0.007922804999907385\n"
          ]
        }
      ]
    },
    {
      "cell_type": "code",
      "source": [
        "import hnswlib\n",
        "import time as tm\n",
        "\n",
        "# ensure float32 for hnswlib too\n",
        "C = A_scaled.astype(np.float32)\n",
        "dim = C.shape[1]\n",
        "p = hnswlib.Index(space='l2', dim=dim)\n",
        "\n",
        "t0 = tm.perf_counter()\n",
        "p.init_index(max_elements=C.shape[0], ef_construction=200, M=16)\n",
        "p.add_items(C, np.arange(C.shape[0]))\n",
        "build_time_hnsw = tm.perf_counter() - t0\n",
        "\n",
        "p.set_ef(50)\n",
        "tq0 = tm.perf_counter()\n",
        "labels, dists = p.knn_query(q_vec.astype(np.float32), k=K)\n",
        "hnsw_query_time = tm.perf_counter() - tq0\n",
        "\n",
        "print(\"HNSW neighbors:\", labels[0])\n",
        "print(\"HNSW build time:\", build_time_hnsw)\n",
        "print(\"HNSW query time:\", hnsw_query_time)\n"
      ],
      "metadata": {
        "colab": {
          "base_uri": "https://localhost:8080/"
        },
        "id": "Ia0OjBC7-qpz",
        "outputId": "f6ef3e2a-d7ed-44a7-dd5d-7789bcc5e1cc"
      },
      "execution_count": null,
      "outputs": [
        {
          "output_type": "stream",
          "name": "stdout",
          "text": [
            "HNSW neighbors: [   100 814549 250273 354470 793977 683626 843918  14210 365044 819999]\n",
            "HNSW build time: 195.69657755400112\n",
            "HNSW query time: 0.00040077899939205963\n"
          ]
        }
      ]
    },
    {
      "cell_type": "code",
      "source": [
        "import pandas as pd\n",
        "\n",
        "results = {\n",
        "    'Method': ['Exact NN', 'Annoy', 'FAISS', 'HNSW'],\n",
        "    'Build Time': [t_exact, build_time_annoy, build_time_faiss, build_time_hnsw],\n",
        "    'Query Time': [t_exact, ann_query_time, faiss_query_time, hnsw_query_time]\n",
        "}\n",
        "\n",
        "df_results = pd.DataFrame(results)\n",
        "print(df_results)\n"
      ],
      "metadata": {
        "colab": {
          "base_uri": "https://localhost:8080/"
        },
        "id": "iOC-9Y8_-sWc",
        "outputId": "70a70de6-4643-4387-8885-a5ae35862391"
      },
      "execution_count": null,
      "outputs": [
        {
          "output_type": "stream",
          "name": "stdout",
          "text": [
            "     Method  Build Time  Query Time\n",
            "0  Exact NN    0.201636    0.201636\n",
            "1     Annoy   15.987563    0.000262\n",
            "2     FAISS    0.057383    0.007923\n",
            "3      HNSW  195.696578    0.000401\n"
          ]
        }
      ]
    }
  ],
  "metadata": {
    "colab": {
      "provenance": [],
      "authorship_tag": "ABX9TyMHMYiJinmculpe0RK/ZIHZ",
      "include_colab_link": true
    },
    "kernelspec": {
      "display_name": "Python 3",
      "name": "python3"
    },
    "language_info": {
      "name": "python"
    }
  },
  "nbformat": 4,
  "nbformat_minor": 0
}